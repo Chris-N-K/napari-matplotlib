{
 "cells": [
  {
   "cell_type": "code",
   "execution_count": 1,
   "metadata": {},
   "outputs": [],
   "source": [
    "import numpy as np\n",
    "import napari\n",
    "from napari_matplotlib import FeaturesHistogramWidget\n",
    "import matplotlib.pyplot as plt"
   ]
  },
  {
   "cell_type": "code",
   "execution_count": 24,
   "metadata": {},
   "outputs": [],
   "source": [
    "n_points = 1000\n",
    "random_points = np.random.random((n_points, 3)) * 10\n",
    "random_points2 = np.random.random((n_points, 3)) * 10\n",
    "random_vectors = random_points2 - random_points\n",
    "\n",
    "vectors = np.stack([random_points, random_vectors], axis=1)\n",
    "feature1 = np.random.random(n_points)\n",
    "feature2 = np.random.normal(size=n_points)"
   ]
  },
  {
   "cell_type": "code",
   "execution_count": 25,
   "metadata": {},
   "outputs": [],
   "source": [
    "viewer = napari.Viewer()"
   ]
  },
  {
   "cell_type": "code",
   "execution_count": 26,
   "metadata": {},
   "outputs": [
    {
     "data": {
      "text/plain": [
       "<Vectors layer 'vectors1' at 0x1ec34e98130>"
      ]
     },
     "execution_count": 26,
     "metadata": {},
     "output_type": "execute_result"
    }
   ],
   "source": [
    "viewer.add_points(\n",
    "    random_points,\n",
    "    properties={\"feature1\": feature1, \"feature2\": feature2},\n",
    "    name=\"points1\",\n",
    "    face_color=\"feature1\",\n",
    "    size=1,\n",
    ")\n",
    "\n",
    "viewer.add_vectors(\n",
    "    vectors,\n",
    "    properties={\"feature1\": feature1, \"feature2\": feature2},\n",
    "    name=\"vectors1\",\n",
    "    edge_width=1,\n",
    "    edge_color=\"feature1\",\n",
    ")"
   ]
  },
  {
   "cell_type": "code",
   "execution_count": 27,
   "metadata": {},
   "outputs": [
    {
     "data": {
      "text/plain": [
       "<napari._qt.widgets.qt_viewer_dock_widget.QtViewerDockWidget at 0x1ec387349d0>"
      ]
     },
     "execution_count": 27,
     "metadata": {},
     "output_type": "execute_result"
    }
   ],
   "source": [
    "widget = FeaturesHistogramWidget(viewer)\n",
    "viewer.window.add_dock_widget(widget)"
   ]
  },
  {
   "cell_type": "code",
   "execution_count": 19,
   "metadata": {},
   "outputs": [
    {
     "data": {
      "text/plain": [
       "'feature1'"
      ]
     },
     "execution_count": 19,
     "metadata": {},
     "output_type": "execute_result"
    }
   ],
   "source": [
    "widget.x_axis_key"
   ]
  },
  {
   "cell_type": "code",
   "execution_count": 36,
   "metadata": {},
   "outputs": [],
   "source": [
    "widget.viewer.layers[widget.layers[0].name].refresh_colors(True)\n",
    "widget.viewer.layers[0].properties\n",
    "widget.viewer.layers[widget.layers[0].name].refresh_colors(True)"
   ]
  },
  {
   "cell_type": "code",
   "execution_count": 33,
   "metadata": {},
   "outputs": [
    {
     "data": {
      "text/plain": [
       "True"
      ]
     },
     "execution_count": 33,
     "metadata": {},
     "output_type": "execute_result"
    }
   ],
   "source": [
    "widget.viewer.layers[1]._update_properties"
   ]
  },
  {
   "cell_type": "code",
   "execution_count": 40,
   "metadata": {},
   "outputs": [],
   "source": [
    "widget.viewer.layers[0].edge_color = \"feature2\""
   ]
  },
  {
   "cell_type": "code",
   "execution_count": null,
   "metadata": {},
   "outputs": [],
   "source": []
  }
 ],
 "metadata": {
  "kernelspec": {
   "display_name": "stress",
   "language": "python",
   "name": "python3"
  },
  "language_info": {
   "codemirror_mode": {
    "name": "ipython",
    "version": 3
   },
   "file_extension": ".py",
   "mimetype": "text/x-python",
   "name": "python",
   "nbconvert_exporter": "python",
   "pygments_lexer": "ipython3",
   "version": "3.9.18"
  },
  "orig_nbformat": 4
 },
 "nbformat": 4,
 "nbformat_minor": 2
}
